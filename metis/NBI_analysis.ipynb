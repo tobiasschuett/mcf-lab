{
 "cells": [
  {
   "cell_type": "code",
   "execution_count": 1,
   "id": "7f7fb05c",
   "metadata": {},
   "outputs": [],
   "source": [
    "import matplotlib as plt\n",
    "import numpy as np\n",
    "import scipy.io"
   ]
  },
  {
   "cell_type": "markdown",
   "id": "9bcc73d3",
   "metadata": {},
   "source": [
    "# 1. Find Method of extracting any quantaties during flat top of shot"
   ]
  },
  {
   "cell_type": "code",
   "execution_count": 59,
   "id": "09fe8a85",
   "metadata": {},
   "outputs": [],
   "source": [
    "flattop_start, flattop_end = 50,100\n",
    "\n",
    "def get_variable(dataset,index):\n",
    "    a = dataset['post']['zerod'][0][0][index][0][0]\n",
    "    a = [float(x[0]) for x in a]\n",
    "    return a\n",
    "\n",
    "def get_variable_pnbi(dataset):\n",
    "    a = dataset['post']['zerod'][0][0]['pnbi'][0][0]\n",
    "    a1 = a.real #nbi injector 1\n",
    "    a2 = a.imag #nbi injector 2\n",
    "    a = [float(x[0]) for x in a1+a2]\n",
    "    return a\n",
    "\n",
    "def get_average(dataset, index):\n",
    "    a = get_variable(dataset,index)\n",
    "    return (np.mean(a[flattop_start:flattop_end]), np.std(a[flattop_start:flattop_end]))\n",
    "\n",
    "def get_average_pnbi(dataset):\n",
    "    a = get_variable_pnbi(dataset)\n",
    "    return (np.mean(a[flattop_start:flattop_end]), np.std(a[flattop_start:flattop_end]))"
   ]
  },
  {
   "cell_type": "code",
   "execution_count": 60,
   "id": "61f330c5",
   "metadata": {},
   "outputs": [],
   "source": [
    "datai = scipy.io.loadmat(\"data/nbi/NBI_initial.mat\")"
   ]
  },
  {
   "cell_type": "code",
   "execution_count": 63,
   "id": "8f918685",
   "metadata": {},
   "outputs": [
    {
     "name": "stdout",
     "output_type": "stream",
     "text": [
      "mean and std all in SI units\n",
      "nbi in W:  (14372071.101488838, 238791.51852729448)\n",
      "electron density:  (3.940424614580809e+19, 9.242047740330688e+17)\n",
      "electron temperature:  (4813.907289701426, 50.30267068811559)\n",
      "energy confinement time:  (0.1352145242992916, 0.0020946122369988112)\n",
      "pressure beta (1.2353019050849219, 0.06071635534024018)\n"
     ]
    }
   ],
   "source": [
    "print(\"mean and std all in SI units\")\n",
    "print(\"nbi in W: \", get_average_pnbi(datai))\n",
    "print(\"electron density: \", get_average(datai,'ne0'))\n",
    "print(\"electron temperature: \", get_average(datai,'te0'))\n",
    "print(\"energy confinement time: \", get_average(datai,'taue'))\n",
    "print(\"pressure beta\", get_average(datai,'betap'))"
   ]
  },
  {
   "cell_type": "markdown",
   "id": "19725757",
   "metadata": {},
   "source": [
    "# 2. Extract these numbers for NBI 0-40MW"
   ]
  },
  {
   "cell_type": "code",
   "execution_count": null,
   "id": "c61f5b4a",
   "metadata": {},
   "outputs": [],
   "source": []
  }
 ],
 "metadata": {
  "kernelspec": {
   "display_name": "Python 3 (ipykernel)",
   "language": "python",
   "name": "python3"
  },
  "language_info": {
   "codemirror_mode": {
    "name": "ipython",
    "version": 3
   },
   "file_extension": ".py",
   "mimetype": "text/x-python",
   "name": "python",
   "nbconvert_exporter": "python",
   "pygments_lexer": "ipython3",
   "version": "3.8.5"
  }
 },
 "nbformat": 4,
 "nbformat_minor": 5
}
